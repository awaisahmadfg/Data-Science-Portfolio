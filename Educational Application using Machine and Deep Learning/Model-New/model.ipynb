{
 "cells": [
  {
   "cell_type": "markdown",
   "metadata": {
    "_uuid": "31de920b8841625394bdabffdf80b436efc56b0d"
   },
   "source": [
    "### load library"
   ]
  },
  {
   "cell_type": "code",
   "execution_count": 1,
   "metadata": {
    "_cell_guid": "b1076dfc-b9ad-4769-8c92-a6c4dae69d19",
    "_uuid": "8f2839f25d086af736a60e9eeb907d3b93b6e0e5"
   },
   "outputs": [],
   "source": [
    "import numpy as np # linear algebra\n",
    "import pandas as pd # data processing, CSV file I/O (e.g. pd.read_csv)"
   ]
  },
  {
   "cell_type": "code",
   "execution_count": 2,
   "metadata": {
    "_cell_guid": "79c7e3d0-c299-4dcb-8224-4455121ee9b0",
    "_uuid": "d629ff2d2480ee46fbb7e2d37f6b5fab8052498a"
   },
   "outputs": [],
   "source": [
    "from tensorflow import keras\n",
    "#from tensorflow.keras.utils import to_categorical\n",
    "#from tensorflow.keras.models import Sequential\n",
    "#from tensorflow.keras.layers import Conv2D, MaxPooling2D, Flatten, Dense, Dropout\n",
    "#from tensorflow.keras.losses import categorical_crossentropy\n",
    "#from tensorflow.keras.optimizers import Adam\n",
    "#from tensorflow.keras.preprocessing.image import ImageDataGenerator\n",
    "\n",
    "import matplotlib.pyplot as plt"
   ]
  },
  {
   "cell_type": "markdown",
   "metadata": {
    "_uuid": "9b016437d3f8a6460a8763129d010e449f1aa607"
   },
   "source": [
    "### Load dataset "
   ]
  },
  {
   "cell_type": "code",
   "execution_count": 3,
   "metadata": {
    "_uuid": "1f4399ac5ab8fb5b48b4d4d944f51bca6814816c"
   },
   "outputs": [],
   "source": [
    "train_data_path = './input/emnist-balanced-train.csv'\n",
    "test_data_path = './input/emnist-balanced-test.csv'"
   ]
  },
  {
   "cell_type": "code",
   "execution_count": 4,
   "metadata": {
    "_uuid": "a3bba436039a3c87639fee9fb0f7963933450871"
   },
   "outputs": [],
   "source": [
    "train_data = pd.read_csv(train_data_path, header=None)"
   ]
  },
  {
   "cell_type": "code",
   "execution_count": 5,
   "metadata": {
    "_uuid": "98ea8bd7477906d87fff464cf207cbb0d1a86c22"
   },
   "outputs": [
    {
     "data": {
      "text/html": [
       "<div>\n",
       "<style>\n",
       "    .dataframe thead tr:only-child th {\n",
       "        text-align: right;\n",
       "    }\n",
       "\n",
       "    .dataframe thead th {\n",
       "        text-align: left;\n",
       "    }\n",
       "\n",
       "    .dataframe tbody tr th {\n",
       "        vertical-align: top;\n",
       "    }\n",
       "</style>\n",
       "<table border=\"1\" class=\"dataframe\">\n",
       "  <thead>\n",
       "    <tr style=\"text-align: right;\">\n",
       "      <th></th>\n",
       "      <th>0</th>\n",
       "      <th>1</th>\n",
       "      <th>2</th>\n",
       "      <th>3</th>\n",
       "      <th>4</th>\n",
       "      <th>5</th>\n",
       "      <th>6</th>\n",
       "      <th>7</th>\n",
       "      <th>8</th>\n",
       "      <th>9</th>\n",
       "      <th>...</th>\n",
       "      <th>775</th>\n",
       "      <th>776</th>\n",
       "      <th>777</th>\n",
       "      <th>778</th>\n",
       "      <th>779</th>\n",
       "      <th>780</th>\n",
       "      <th>781</th>\n",
       "      <th>782</th>\n",
       "      <th>783</th>\n",
       "      <th>784</th>\n",
       "    </tr>\n",
       "  </thead>\n",
       "  <tbody>\n",
       "    <tr>\n",
       "      <th>0</th>\n",
       "      <td>45</td>\n",
       "      <td>0</td>\n",
       "      <td>0</td>\n",
       "      <td>0</td>\n",
       "      <td>0</td>\n",
       "      <td>0</td>\n",
       "      <td>0</td>\n",
       "      <td>0</td>\n",
       "      <td>0</td>\n",
       "      <td>0</td>\n",
       "      <td>...</td>\n",
       "      <td>0</td>\n",
       "      <td>0</td>\n",
       "      <td>0</td>\n",
       "      <td>0</td>\n",
       "      <td>0</td>\n",
       "      <td>0</td>\n",
       "      <td>0</td>\n",
       "      <td>0</td>\n",
       "      <td>0</td>\n",
       "      <td>0</td>\n",
       "    </tr>\n",
       "    <tr>\n",
       "      <th>1</th>\n",
       "      <td>36</td>\n",
       "      <td>0</td>\n",
       "      <td>0</td>\n",
       "      <td>0</td>\n",
       "      <td>0</td>\n",
       "      <td>0</td>\n",
       "      <td>0</td>\n",
       "      <td>0</td>\n",
       "      <td>0</td>\n",
       "      <td>0</td>\n",
       "      <td>...</td>\n",
       "      <td>0</td>\n",
       "      <td>0</td>\n",
       "      <td>0</td>\n",
       "      <td>0</td>\n",
       "      <td>0</td>\n",
       "      <td>0</td>\n",
       "      <td>0</td>\n",
       "      <td>0</td>\n",
       "      <td>0</td>\n",
       "      <td>0</td>\n",
       "    </tr>\n",
       "    <tr>\n",
       "      <th>2</th>\n",
       "      <td>43</td>\n",
       "      <td>0</td>\n",
       "      <td>0</td>\n",
       "      <td>0</td>\n",
       "      <td>0</td>\n",
       "      <td>0</td>\n",
       "      <td>0</td>\n",
       "      <td>0</td>\n",
       "      <td>0</td>\n",
       "      <td>0</td>\n",
       "      <td>...</td>\n",
       "      <td>0</td>\n",
       "      <td>0</td>\n",
       "      <td>0</td>\n",
       "      <td>0</td>\n",
       "      <td>0</td>\n",
       "      <td>0</td>\n",
       "      <td>0</td>\n",
       "      <td>0</td>\n",
       "      <td>0</td>\n",
       "      <td>0</td>\n",
       "    </tr>\n",
       "    <tr>\n",
       "      <th>3</th>\n",
       "      <td>15</td>\n",
       "      <td>0</td>\n",
       "      <td>0</td>\n",
       "      <td>0</td>\n",
       "      <td>0</td>\n",
       "      <td>0</td>\n",
       "      <td>0</td>\n",
       "      <td>0</td>\n",
       "      <td>0</td>\n",
       "      <td>0</td>\n",
       "      <td>...</td>\n",
       "      <td>0</td>\n",
       "      <td>0</td>\n",
       "      <td>0</td>\n",
       "      <td>0</td>\n",
       "      <td>0</td>\n",
       "      <td>0</td>\n",
       "      <td>0</td>\n",
       "      <td>0</td>\n",
       "      <td>0</td>\n",
       "      <td>0</td>\n",
       "    </tr>\n",
       "    <tr>\n",
       "      <th>4</th>\n",
       "      <td>4</td>\n",
       "      <td>0</td>\n",
       "      <td>0</td>\n",
       "      <td>0</td>\n",
       "      <td>0</td>\n",
       "      <td>0</td>\n",
       "      <td>0</td>\n",
       "      <td>0</td>\n",
       "      <td>0</td>\n",
       "      <td>0</td>\n",
       "      <td>...</td>\n",
       "      <td>0</td>\n",
       "      <td>0</td>\n",
       "      <td>0</td>\n",
       "      <td>0</td>\n",
       "      <td>0</td>\n",
       "      <td>0</td>\n",
       "      <td>0</td>\n",
       "      <td>0</td>\n",
       "      <td>0</td>\n",
       "      <td>0</td>\n",
       "    </tr>\n",
       "    <tr>\n",
       "      <th>5</th>\n",
       "      <td>42</td>\n",
       "      <td>0</td>\n",
       "      <td>0</td>\n",
       "      <td>0</td>\n",
       "      <td>0</td>\n",
       "      <td>0</td>\n",
       "      <td>0</td>\n",
       "      <td>0</td>\n",
       "      <td>0</td>\n",
       "      <td>0</td>\n",
       "      <td>...</td>\n",
       "      <td>0</td>\n",
       "      <td>0</td>\n",
       "      <td>0</td>\n",
       "      <td>0</td>\n",
       "      <td>0</td>\n",
       "      <td>0</td>\n",
       "      <td>0</td>\n",
       "      <td>0</td>\n",
       "      <td>0</td>\n",
       "      <td>0</td>\n",
       "    </tr>\n",
       "    <tr>\n",
       "      <th>6</th>\n",
       "      <td>26</td>\n",
       "      <td>0</td>\n",
       "      <td>0</td>\n",
       "      <td>0</td>\n",
       "      <td>0</td>\n",
       "      <td>0</td>\n",
       "      <td>0</td>\n",
       "      <td>0</td>\n",
       "      <td>0</td>\n",
       "      <td>0</td>\n",
       "      <td>...</td>\n",
       "      <td>0</td>\n",
       "      <td>0</td>\n",
       "      <td>0</td>\n",
       "      <td>0</td>\n",
       "      <td>0</td>\n",
       "      <td>0</td>\n",
       "      <td>0</td>\n",
       "      <td>0</td>\n",
       "      <td>0</td>\n",
       "      <td>0</td>\n",
       "    </tr>\n",
       "    <tr>\n",
       "      <th>7</th>\n",
       "      <td>32</td>\n",
       "      <td>0</td>\n",
       "      <td>0</td>\n",
       "      <td>0</td>\n",
       "      <td>0</td>\n",
       "      <td>0</td>\n",
       "      <td>0</td>\n",
       "      <td>0</td>\n",
       "      <td>0</td>\n",
       "      <td>0</td>\n",
       "      <td>...</td>\n",
       "      <td>0</td>\n",
       "      <td>0</td>\n",
       "      <td>0</td>\n",
       "      <td>0</td>\n",
       "      <td>0</td>\n",
       "      <td>0</td>\n",
       "      <td>0</td>\n",
       "      <td>0</td>\n",
       "      <td>0</td>\n",
       "      <td>0</td>\n",
       "    </tr>\n",
       "    <tr>\n",
       "      <th>8</th>\n",
       "      <td>20</td>\n",
       "      <td>0</td>\n",
       "      <td>0</td>\n",
       "      <td>0</td>\n",
       "      <td>0</td>\n",
       "      <td>0</td>\n",
       "      <td>0</td>\n",
       "      <td>0</td>\n",
       "      <td>0</td>\n",
       "      <td>0</td>\n",
       "      <td>...</td>\n",
       "      <td>0</td>\n",
       "      <td>0</td>\n",
       "      <td>0</td>\n",
       "      <td>0</td>\n",
       "      <td>0</td>\n",
       "      <td>0</td>\n",
       "      <td>0</td>\n",
       "      <td>0</td>\n",
       "      <td>0</td>\n",
       "      <td>0</td>\n",
       "    </tr>\n",
       "    <tr>\n",
       "      <th>9</th>\n",
       "      <td>1</td>\n",
       "      <td>0</td>\n",
       "      <td>0</td>\n",
       "      <td>0</td>\n",
       "      <td>0</td>\n",
       "      <td>0</td>\n",
       "      <td>0</td>\n",
       "      <td>0</td>\n",
       "      <td>0</td>\n",
       "      <td>0</td>\n",
       "      <td>...</td>\n",
       "      <td>0</td>\n",
       "      <td>0</td>\n",
       "      <td>0</td>\n",
       "      <td>0</td>\n",
       "      <td>0</td>\n",
       "      <td>0</td>\n",
       "      <td>0</td>\n",
       "      <td>0</td>\n",
       "      <td>0</td>\n",
       "      <td>0</td>\n",
       "    </tr>\n",
       "  </tbody>\n",
       "</table>\n",
       "<p>10 rows × 785 columns</p>\n",
       "</div>"
      ],
      "text/plain": [
       "   0    1    2    3    4    5    6    7    8    9   ...   775  776  777  778  \\\n",
       "0   45    0    0    0    0    0    0    0    0    0 ...     0    0    0    0   \n",
       "1   36    0    0    0    0    0    0    0    0    0 ...     0    0    0    0   \n",
       "2   43    0    0    0    0    0    0    0    0    0 ...     0    0    0    0   \n",
       "3   15    0    0    0    0    0    0    0    0    0 ...     0    0    0    0   \n",
       "4    4    0    0    0    0    0    0    0    0    0 ...     0    0    0    0   \n",
       "5   42    0    0    0    0    0    0    0    0    0 ...     0    0    0    0   \n",
       "6   26    0    0    0    0    0    0    0    0    0 ...     0    0    0    0   \n",
       "7   32    0    0    0    0    0    0    0    0    0 ...     0    0    0    0   \n",
       "8   20    0    0    0    0    0    0    0    0    0 ...     0    0    0    0   \n",
       "9    1    0    0    0    0    0    0    0    0    0 ...     0    0    0    0   \n",
       "\n",
       "   779  780  781  782  783  784  \n",
       "0    0    0    0    0    0    0  \n",
       "1    0    0    0    0    0    0  \n",
       "2    0    0    0    0    0    0  \n",
       "3    0    0    0    0    0    0  \n",
       "4    0    0    0    0    0    0  \n",
       "5    0    0    0    0    0    0  \n",
       "6    0    0    0    0    0    0  \n",
       "7    0    0    0    0    0    0  \n",
       "8    0    0    0    0    0    0  \n",
       "9    0    0    0    0    0    0  \n",
       "\n",
       "[10 rows x 785 columns]"
      ]
     },
     "execution_count": 5,
     "metadata": {},
     "output_type": "execute_result"
    }
   ],
   "source": [
    "train_data.head(10)"
   ]
  },
  {
   "cell_type": "code",
   "execution_count": 6,
   "metadata": {
    "_uuid": "f2fb5113d990cab102b2e9f657baa3a8da129400"
   },
   "outputs": [],
   "source": [
    "# The classes of this balanced dataset are as follows. Index into it based on class label\n",
    "class_mapping = '0123456789ABCDEFGHIJKLMNOPQRSTUVWXYZabdefghnqrt'\n",
    "# source data: https://arxiv.org/pdf/1702.05373.pdf"
   ]
  },
  {
   "cell_type": "code",
   "execution_count": 7,
   "metadata": {
    "_uuid": "580fafe36c21d0f3d3911b2065f9f09d786db370"
   },
   "outputs": [
    {
     "data": {
      "text/plain": [
       "'Y'"
      ]
     },
     "execution_count": 7,
     "metadata": {},
     "output_type": "execute_result"
    }
   ],
   "source": [
    "class_mapping[34]"
   ]
  },
  {
   "cell_type": "code",
   "execution_count": 8,
   "metadata": {
    "_uuid": "bd26cc4af46e4a09316da300f8513f1a9f6fa260"
   },
   "outputs": [
    {
     "data": {
      "text/plain": [
       "(112800, 785)"
      ]
     },
     "execution_count": 8,
     "metadata": {},
     "output_type": "execute_result"
    }
   ],
   "source": [
    "train_data.shape"
   ]
  },
  {
   "cell_type": "markdown",
   "metadata": {
    "_uuid": "0d9acbcee4de0ea29f70ac51394b941d41def7b1"
   },
   "source": [
    "## Data is flipped"
   ]
  },
  {
   "cell_type": "code",
   "execution_count": 9,
   "metadata": {
    "_uuid": "08867c5c0faab423312281eea41015ad10648b66"
   },
   "outputs": [
    {
     "data": {
      "image/png": "[encoded data removed]",
      "text/plain": [
       "<matplotlib.figure.Figure at 0x236f2408dd8>"
      ]
     },
     "metadata": {
      "needs_background": "light"
     },
     "output_type": "display_data"
    },
    {
     "data": {
      "image/png": "[encoded data removed]",
      "text/plain": [
       "<matplotlib.figure.Figure at 0x236f2d835c0>"
      ]
     },
     "metadata": {
      "needs_background": "light"
     },
     "output_type": "display_data"
    }
   ],
   "source": [
    "num_classes = len(train_data[0].unique())\n",
    "row_num = 8\n",
    "\n",
    "plt.imshow(train_data.values[row_num, 1:].reshape([28, 28]), cmap='Greys_r')\n",
    "plt.show()\n",
    "\n",
    "img_flip = np.transpose(train_data.values[row_num,1:].reshape(28, 28), axes=[1,0]) # img_size * img_size arrays\n",
    "plt.imshow(img_flip, cmap='Greys_r')\n",
    "\n",
    "plt.show()"
   ]
  },
  {
   "cell_type": "code",
   "execution_count": 10,
   "metadata": {
    "_uuid": "4a3d24bf1e6c5527f13a669704cafd4cc84ef4ca"
   },
   "outputs": [],
   "source": [
    "def show_img(data, row_num):\n",
    "    img_flip = np.transpose(data.values[row_num,1:].reshape(28, 28), axes=[1,0]) # img_size * img_size arrays\n",
    "    plt.title('Class: ' + str(data.values[row_num,0]) + ', Label: ' + str(class_mapping[data.values[row_num,0]]))\n",
    "    plt.imshow(img_flip, cmap='Greys_r')"
   ]
  },
  {
   "cell_type": "code",
   "execution_count": 11,
   "metadata": {
    "_uuid": "7921f478d1d79dcc480f7987ce20340167b894c1"
   },
   "outputs": [
    {
     "data": {
      "image/png": "[encoded data removed]",
      "text/plain": [
       "<matplotlib.figure.Figure at 0x236f24ddb38>"
      ]
     },
     "metadata": {
      "needs_background": "light"
     },
     "output_type": "display_data"
    }
   ],
   "source": [
    "show_img(train_data, 149)"
   ]
  },
  {
   "cell_type": "code",
   "execution_count": 12,
   "metadata": {
    "_uuid": "5385a804fd7eda7ca00cb874be10dcc85e9af19e"
   },
   "outputs": [],
   "source": [
    "# 10 digits, 26 letters, and 11 capital letters that are different looking from their lowercase counterparts\n",
    "num_classes = 47 \n",
    "img_size = 28\n",
    "\n",
    "def img_label_load(data_path, num_classes=None):\n",
    "    data = pd.read_csv(data_path, header=None)\n",
    "    data_rows = len(data)\n",
    "    if not num_classes:\n",
    "        num_classes = len(data[0].unique())\n",
    "    \n",
    "    # this assumes square imgs. Should be 28x28\n",
    "    img_size = int(np.sqrt(len(data.iloc[0][1:])))\n",
    "    \n",
    "    # Images need to be transposed. This line also does the reshaping needed.\n",
    "    imgs = np.transpose(data.values[:,1:].reshape(data_rows, img_size, img_size, 1), axes=[0,2,1,3]) # img_size * img_size arrays\n",
    "    \n",
    "    labels = keras.utils.to_categorical(data.values[:,0], num_classes) # one-hot encoding vectors\n",
    "    \n",
    "    return imgs/255., labels\n",
    "\n"
   ]
  },
  {
   "cell_type": "markdown",
   "metadata": {
    "_uuid": "f7f3744ebae007d1150e96f6c9d23896bf0cc3ce"
   },
   "source": [
    "### model, compile"
   ]
  },
  {
   "cell_type": "code",
   "execution_count": 13,
   "metadata": {
    "_uuid": "197e457ae115c85fe96db9621fd296978a62502c"
   },
   "outputs": [
    {
     "name": "stdout",
     "output_type": "stream",
     "text": [
      "WARNING:tensorflow:From C:\\Users\\Jayesh\\Anaconda3\\lib\\site-packages\\tensorflow\\python\\ops\\resource_variable_ops.py:435: colocate_with (from tensorflow.python.framework.ops) is deprecated and will be removed in a future version.\n",
      "Instructions for updating:\n",
      "Colocations handled automatically by placer.\n",
      "WARNING:tensorflow:From C:\\Users\\Jayesh\\Anaconda3\\lib\\site-packages\\tensorflow\\python\\keras\\layers\\core.py:143: calling dropout (from tensorflow.python.ops.nn_ops) with keep_prob is deprecated and will be removed in a future version.\n",
      "Instructions for updating:\n",
      "Please use `rate` instead of `keep_prob`. Rate should be set to `rate = 1 - keep_prob`.\n",
      "_________________________________________________________________\n",
      "Layer (type)                 Output Shape              Param #   \n",
      "=================================================================\n",
      "conv2d (Conv2D)              (None, 12, 12, 12)        312       \n",
      "_________________________________________________________________\n",
      "dropout (Dropout)            (None, 12, 12, 12)        0         \n",
      "_________________________________________________________________\n",
      "conv2d_1 (Conv2D)            (None, 5, 5, 18)          1962      \n",
      "_________________________________________________________________\n",
      "dropout_1 (Dropout)          (None, 5, 5, 18)          0         \n",
      "_________________________________________________________________\n",
      "conv2d_2 (Conv2D)            (None, 4, 4, 24)          1752      \n",
      "_________________________________________________________________\n",
      "flatten (Flatten)            (None, 384)               0         \n",
      "_________________________________________________________________\n",
      "dense (Dense)                (None, 150)               57750     \n",
      "_________________________________________________________________\n",
      "dense_1 (Dense)              (None, 47)                7097      \n",
      "=================================================================\n",
      "Total params: 68,873\n",
      "Trainable params: 68,873\n",
      "Non-trainable params: 0\n",
      "_________________________________________________________________\n"
     ]
    }
   ],
   "source": [
    "model = keras.models.Sequential()\n",
    "\n",
    "# model.add(keras.layers.Reshape((img_size,img_size,1), input_shape=(784,)))\n",
    "model.add(keras.layers.Conv2D(filters=12, kernel_size=(5,5), strides=2, activation='relu', \n",
    "                              input_shape=(img_size,img_size,1)))\n",
    "# model.add(keras.layers.MaxPooling2D(pool_size=(2,2)))\n",
    "model.add(keras.layers.Dropout(.5))\n",
    "\n",
    "model.add(keras.layers.Conv2D(filters=18, kernel_size=(3,3) , strides=2, activation='relu'))\n",
    "# model.add(keras.layers.MaxPooling2D(pool_size=(2,2)))\n",
    "model.add(keras.layers.Dropout(.5))\n",
    "\n",
    "model.add(keras.layers.Conv2D(filters=24, kernel_size=(2,2), activation='relu'))\n",
    "# model.add(keras.layers.MaxPooling2D(pool_size=(2,2)))\n",
    "\n",
    "# model.add(keras.layers.Conv2D(filters=30, kernel_size=(3,3), activation='relu'))\n",
    "\n",
    "model.add(keras.layers.Flatten())\n",
    "model.add(keras.layers.Dense(units=150, activation='relu'))\n",
    "model.add(keras.layers.Dense(units=num_classes, activation='softmax'))\n",
    "\n",
    "model.compile(loss='categorical_crossentropy', optimizer='Adam', metrics=['accuracy'])\n",
    "model.summary()"
   ]
  },
  {
   "cell_type": "code",
   "execution_count": 14,
   "metadata": {
    "_uuid": "35693aac7a868fce047dffa15a5c2c62a5943496"
   },
   "outputs": [
    {
     "name": "stdout",
     "output_type": "stream",
     "text": [
      "[None, 12, 12, 12]\n",
      "[None, 12, 12, 12]\n",
      "[None, 5, 5, 18]\n",
      "[None, 5, 5, 18]\n",
      "[None, 4, 4, 24]\n",
      "[None, 384]\n",
      "[None, 150]\n",
      "[None, 47]\n"
     ]
    }
   ],
   "source": [
    "for layer in model.layers:\n",
    "    print(layer.get_output_at(0).get_shape().as_list())\n"
   ]
  },
  {
   "cell_type": "markdown",
   "metadata": {
    "_uuid": "5fbd7a6b3c2f3ed6fc9d4e96ddecc7106d31b410"
   },
   "source": [
    "### Train"
   ]
  },
  {
   "cell_type": "code",
   "execution_count": 15,
   "metadata": {
    "_uuid": "f77ca5ebdb6a2080248702f109bef0ca04ca4e9e"
   },
   "outputs": [
    {
     "name": "stdout",
     "output_type": "stream",
     "text": [
      "(112800, 28, 28, 1)\n"
     ]
    }
   ],
   "source": [
    "X, y = img_label_load(train_data_path)\n",
    "print(X.shape)"
   ]
  },
  {
   "cell_type": "code",
   "execution_count": 16,
   "metadata": {
    "_uuid": "a10897314dbbcef2233cab83b2cdb981533ccf3d",
    "scrolled": false
   },
   "outputs": [
    {
     "name": "stdout",
     "output_type": "stream",
     "text": [
      "WARNING:tensorflow:From C:\\Users\\Jayesh\\Anaconda3\\lib\\site-packages\\tensorflow\\python\\ops\\math_ops.py:3066: to_int32 (from tensorflow.python.ops.math_ops) is deprecated and will be removed in a future version.\n",
      "Instructions for updating:\n",
      "Use tf.cast instead.\n",
      "Epoch 1/5\n",
      "705/705 [==============================] - 3s 4ms/step - loss: 0.7486 - acc: 0.7630\n",
      "2820/2820 [==============================] - 46s 16ms/step - loss: 1.3801 - acc: 0.5916 - val_loss: 0.7486 - val_acc: 0.7630\n",
      "Epoch 2/5\n",
      "705/705 [==============================] - 3s 4ms/step - loss: 0.6119 - acc: 0.7993\n",
      "2820/2820 [==============================] - 45s 16ms/step - loss: 0.7881 - acc: 0.7463 - val_loss: 0.6119 - val_acc: 0.7993\n",
      "Epoch 3/5\n",
      "705/705 [==============================] - 3s 4ms/step - loss: 0.5509 - acc: 0.8116\n",
      "2820/2820 [==============================] - 44s 15ms/step - loss: 0.6796 - acc: 0.7742 - val_loss: 0.5509 - val_acc: 0.8116\n",
      "Epoch 4/5\n",
      "705/705 [==============================] - 3s 4ms/step - loss: 0.5178 - acc: 0.8268\n",
      "2820/2820 [==============================] - 41s 14ms/step - loss: 0.6254 - acc: 0.7901 - val_loss: 0.5178 - val_acc: 0.8268\n",
      "Epoch 5/5\n",
      "705/705 [==============================] - 3s 4ms/step - loss: 0.4941 - acc: 0.8359\n",
      "2820/2820 [==============================] - 43s 15ms/step - loss: 0.5919 - acc: 0.8006 - val_loss: 0.4941 - val_acc: 0.8359\n"
     ]
    }
   ],
   "source": [
    "data_generator = keras.preprocessing.image.ImageDataGenerator(validation_split=.2)\n",
    "## consider using this for more variety\n",
    "data_generator_with_aug = keras.preprocessing.image.ImageDataGenerator(validation_split=.2,\n",
    "                                            width_shift_range=.2, height_shift_range=.2,\n",
    "                                            rotation_range=60, zoom_range=.2, shear_range=.3)\n",
    "\n",
    "# if already ran this above, no need to do it again\n",
    "# X, y = img_label_load(train_data_path)\n",
    "# print(\"X.shape: \", X.shape)\n",
    "\n",
    "training_data_generator = data_generator.flow(X, y, subset='training')\n",
    "validation_data_generator = data_generator.flow(X, y, subset='validation')\n",
    "history = model.fit_generator(training_data_generator, \n",
    "                              steps_per_epoch=500, epochs=5, # can change epochs to 10\n",
    "                              validation_data=validation_data_generator)\n"
   ]
  },
  {
   "cell_type": "code",
   "execution_count": 17,
   "metadata": {
    "_uuid": "14fb22d26d96914ca1c8111dd8f056915db9cf19"
   },
   "outputs": [
    {
     "data": {
      "text/plain": [
       "[0.4514671072258171, 0.84453017]"
      ]
     },
     "execution_count": 17,
     "metadata": {},
     "output_type": "execute_result"
    }
   ],
   "source": [
    "test_X, test_y = img_label_load(test_data_path)\n",
    "test_data_generator = data_generator.flow(X, y)\n",
    "\n",
    "model.evaluate_generator(test_data_generator)"
   ]
  },
  {
   "cell_type": "markdown",
   "metadata": {
    "_uuid": "3aa759dd7aa31e37dc48bc9a65b8c815ce273019"
   },
   "source": [
    "## Look at some predictions\n"
   ]
  },
  {
   "cell_type": "code",
   "execution_count": 18,
   "metadata": {
    "_uuid": "b2267b783e2b08ef23ec5d7bc68c6b0e14b1d2fd"
   },
   "outputs": [
    {
     "data": {
      "image/png": "[encoded data removed]",
      "text/plain": [
       "<matplotlib.figure.Figure at 0x236f24f0d68>"
      ]
     },
     "metadata": {
      "needs_background": "light"
     },
     "output_type": "display_data"
    }
   ],
   "source": [
    "test_data = pd.read_csv(test_data_path, header=None)\n",
    "show_img(test_data, 123)"
   ]
  },
  {
   "cell_type": "code",
   "execution_count": 19,
   "metadata": {
    "_uuid": "60f2c48a1923aa302d24e6a0ee019fc9aba950d1"
   },
   "outputs": [],
   "source": [
    "X_test, y_test = img_label_load(test_data_path) # loads images and orients for model"
   ]
  },
  {
   "cell_type": "code",
   "execution_count": 20,
   "metadata": {
    "_uuid": "2a8b2f8b90f9ee6aa1cc169b58b637da49735ab7"
   },
   "outputs": [],
   "source": [
    "def run_prediction(idx):\n",
    "    result = np.argmax(model.predict(X_test[idx:idx+1]))\n",
    "    print('Prediction: ', result, ', Char: ', class_mapping[result])\n",
    "    print('Label: ', test_data.values[idx,0])\n",
    "    show_img(test_data, idx)"
   ]
  },
  {
   "cell_type": "code",
   "execution_count": 21,
   "metadata": {
    "_uuid": "30c86d25f4147a803278fa9e5838449656f2095a"
   },
   "outputs": [
    {
     "name": "stdout",
     "output_type": "stream",
     "text": [
      "Prediction:  12 , Char:  C\n",
      "Label:  12\n",
      "Prediction:  3 , Char:  3\n",
      "Label:  3\n",
      "Prediction:  1 , Char:  1\n",
      "Label:  1\n",
      "Prediction:  33 , Char:  X\n",
      "Label:  33\n",
      "Prediction:  26 , Char:  Q\n",
      "Label:  26\n",
      "Prediction:  16 , Char:  G\n",
      "Label:  16\n",
      "Prediction:  3 , Char:  3\n",
      "Label:  3\n",
      "Prediction:  28 , Char:  S\n",
      "Label:  28\n",
      "Prediction:  33 , Char:  X\n",
      "Label:  33\n"
     ]
    },
    {
     "data": {
      "image/png": "[encoded data removed]",
      "text/plain": [
       "<matplotlib.figure.Figure at 0x236d97107f0>"
      ]
     },
     "metadata": {
      "needs_background": "light"
     },
     "output_type": "display_data"
    }
   ],
   "source": [
    "import random\n",
    "\n",
    "for _ in range(1,10):\n",
    "    idx = random.randint(0, 47-1)\n",
    "    run_prediction(idx)"
   ]
  },
  {
   "cell_type": "code",
   "execution_count": 22,
   "metadata": {
    "_uuid": "be1a2897df65088691d96c59331ff34420e22d45"
   },
   "outputs": [
    {
     "data": {
      "text/plain": [
       "38"
      ]
     },
     "execution_count": 22,
     "metadata": {},
     "output_type": "execute_result"
    },
    {
     "data": {
      "image/png": "[encoded data removed]",
      "text/plain": [
       "<matplotlib.figure.Figure at 0x236d9652198>"
      ]
     },
     "metadata": {
      "needs_background": "light"
     },
     "output_type": "display_data"
    }
   ],
   "source": [
    "show_img(test_data, 123)\n",
    "np.argmax(y_test[123])"
   ]
  },
  {
   "cell_type": "markdown",
   "metadata": {
    "_uuid": "2695e4eda1240fb4c3b5eaa7b3b2f18ec3418324",
    "collapsed": true
   },
   "source": [
    "## Keras exports"
   ]
  },
  {
   "cell_type": "code",
   "execution_count": 23,
   "metadata": {
    "_uuid": "3e78e9886eb9570bae22ec07a37b0d04131ab77b"
   },
   "outputs": [
    {
     "name": "stdout",
     "output_type": "stream",
     "text": [
      "total 1.3M\n",
      "-rw-r--r-- 1 Jayesh Administrators  37K Mar  1 23:48 cnn-on-emnist-with-accr-of-88.ipynb\n",
      "-rw-r--r-- 1 Jayesh Administrators 847K Mar  2 10:58 full_model.h5\n",
      "drwxr-xr-x 2 Jayesh Administrators 8.0K Mar  1 22:29 input\n",
      "-rw-r--r-- 1 Jayesh Administrators  50K Mar  2 10:57 kernel.ipynb\n",
      "-rw-r--r-- 1 Jayesh Administrators 293K Mar  2 10:58 model.h5\n",
      "-rw-r--r-- 1 Jayesh Administrators 3.2K Mar  2 10:58 model.json\n"
     ]
    }
   ],
   "source": [
    "with open('model.json', 'w') as f:\n",
    "    f.write(model.to_json())\n",
    "model.save_weights('./model.h5')\n",
    "\n",
    "model.save('./full_model.h5')\n",
    "!ls -lh"
   ]
  },
  {
   "cell_type": "markdown",
   "metadata": {
    "_uuid": "09bcb1baf98680d49505b3efe5c3dd9ac6c5892d"
   },
   "source": [
    "## Plot loss and accuracy"
   ]
  },
  {
   "cell_type": "code",
   "execution_count": 1,
   "metadata": {
    "_uuid": "3a7d93c115273e615b5f98d0df54eb0ce66b2a81"
   },
   "outputs": [
    {
     "ename": "NameError",
     "evalue": "name 'history' is not defined",
     "output_type": "error",
     "traceback": [
      "\u001b[1;31m---------------------------------------------------------------------------\u001b[0m",
      "\u001b[1;31mNameError\u001b[0m                                 Traceback (most recent call last)",
      "\u001b[1;32m<ipython-input-1-ae1c5d0c90a1>\u001b[0m in \u001b[0;36m<module>\u001b[1;34m()\u001b[0m\n\u001b[0;32m      1\u001b[0m \u001b[1;32mimport\u001b[0m \u001b[0mmatplotlib\u001b[0m\u001b[1;33m.\u001b[0m\u001b[0mpyplot\u001b[0m \u001b[1;32mas\u001b[0m \u001b[0mplt\u001b[0m\u001b[1;33m\u001b[0m\u001b[1;33m\u001b[0m\u001b[0m\n\u001b[0;32m      2\u001b[0m \u001b[1;33m\u001b[0m\u001b[0m\n\u001b[1;32m----> 3\u001b[1;33m \u001b[0mprint\u001b[0m\u001b[1;33m(\u001b[0m\u001b[0mhistory\u001b[0m\u001b[1;33m.\u001b[0m\u001b[0mhistory\u001b[0m\u001b[1;33m.\u001b[0m\u001b[0mkeys\u001b[0m\u001b[1;33m(\u001b[0m\u001b[1;33m)\u001b[0m\u001b[1;33m)\u001b[0m\u001b[1;33m\u001b[0m\u001b[1;33m\u001b[0m\u001b[0m\n\u001b[0m\u001b[0;32m      4\u001b[0m \u001b[1;33m\u001b[0m\u001b[0m\n\u001b[0;32m      5\u001b[0m \u001b[1;31m# accuracy\u001b[0m\u001b[1;33m\u001b[0m\u001b[1;33m\u001b[0m\u001b[1;33m\u001b[0m\u001b[0m\n",
      "\u001b[1;31mNameError\u001b[0m: name 'history' is not defined"
     ]
    }
   ],
   "source": [
    "import matplotlib.pyplot as plt\n",
    "\n",
    "print(history.history.keys())\n",
    "\n",
    "# accuracy\n",
    "plt.plot(history.history['acc'])\n",
    "plt.plot(history.history['val_acc'])\n",
    "plt.title('model accuracy')\n",
    "plt.ylabel('accuracy')\n",
    "plt.xlabel('epoch')\n",
    "plt.legend(['train', 'validation'], loc='lower right')\n",
    "plt.show()\n",
    "\n",
    "# loss\n",
    "plt.plot(history.history['loss'])\n",
    "plt.plot(history.history['val_loss'])\n",
    "plt.title('model loss')\n",
    "plt.ylabel('loss')\n",
    "plt.xlabel('epoch')\n",
    "plt.legend(['train', 'validation'], loc='upper right')\n",
    "plt.show()"
   ]
  }
 ],
 "metadata": {
  "kernelspec": {
   "display_name": "Python 3",
   "language": "python",
   "name": "python3"
  },
  "language_info": {
   "codemirror_mode": {
    "name": "ipython",
    "version": 3
   },
   "file_extension": ".py",
   "mimetype": "text/x-python",
   "name": "python",
   "nbconvert_exporter": "python",
   "pygments_lexer": "ipython3",
   "version": "3.6.7"
  }
 },
 "nbformat": 4,
 "nbformat_minor": 1
}
